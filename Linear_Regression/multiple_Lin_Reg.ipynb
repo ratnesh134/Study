{
 "cells": [
  {
   "cell_type": "code",
   "execution_count": null,
   "id": "8c1eb4da-4ca7-46e2-aee8-16c53135da87",
   "metadata": {},
   "outputs": [],
   "source": [
    "  "
   ]
  }
 ],
 "metadata": {
  "kernelspec": {
   "display_name": "env",
   "language": "python",
   "name": "env"
  },
  "language_info": {
   "codemirror_mode": {
    "name": "ipython",
    "version": 3
   },
   "file_extension": ".py",
   "mimetype": "text/x-python",
   "name": "python",
   "nbconvert_exporter": "python",
   "pygments_lexer": "ipython3",
   "version": "3.12.3"
  }
 },
 "nbformat": 4,
 "nbformat_minor": 5
}
