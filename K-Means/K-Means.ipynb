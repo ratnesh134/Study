{
 "cells": [
  {
   "cell_type": "code",
   "execution_count": 1,
   "id": "c5633762-cc87-49e9-8e98-038c04abbcd4",
   "metadata": {},
   "outputs": [],
   "source": [
    "import pandas as pd\n",
    "import numpy as np\n"
   ]
  },
  {
   "cell_type": "code",
   "execution_count": null,
   "id": "c458822a-b18c-4ea1-8966-bdf640c092e9",
   "metadata": {},
   "outputs": [],
   "source": [
    "df = pd.read_csv('st"
   ]
  }
 ],
 "metadata": {
  "kernelspec": {
   "display_name": "env",
   "language": "python",
   "name": "env"
  },
  "language_info": {
   "codemirror_mode": {
    "name": "ipython",
    "version": 3
   },
   "file_extension": ".py",
   "mimetype": "text/x-python",
   "name": "python",
   "nbconvert_exporter": "python",
   "pygments_lexer": "ipython3",
   "version": "3.12.3"
  }
 },
 "nbformat": 4,
 "nbformat_minor": 5
}
