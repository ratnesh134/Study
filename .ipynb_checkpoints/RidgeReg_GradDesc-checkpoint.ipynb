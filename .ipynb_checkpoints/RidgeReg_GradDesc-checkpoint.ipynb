{
 "cells": [
  {
   "cell_type": "markdown",
   "id": "4923de3f-a78f-4000-85ab-58590c606a8a",
   "metadata": {},
   "source": [
    "## Using Stochastic Gradient Regressor class"
   ]
  },
  {
   "cell_type": "code",
   "execution_count": 1,
   "id": "87e27990-038d-4d82-a67d-0d602e591751",
   "metadata": {},
   "outputs": [],
   "source": [
    "from sklearn.datasets import load_diabetes\n",
    "from sklearn.metrics import r2_score\n",
    "import numpy as np"
   ]
  },
  {
   "cell_type": "code",
   "execution_count": 2,
   "id": "72a3f406-f92d-4d04-80d6-6ac4c608ae87",
   "metadata": {},
   "outputs": [],
   "source": [
    "X,y = load_diabetes(return_X_y=True)"
   ]
  },
  {
   "cell_type": "code",
   "execution_count": 3,
   "id": "e1dc3589-358e-4dcb-a361-efe92d312c6e",
   "metadata": {},
   "outputs": [],
   "source": [
    "from sklearn.model_selection import train_test_split\n"
   ]
  },
  {
   "cell_type": "code",
   "execution_count": 4,
   "id": "be4ffd34-1816-4ad4-bd78-3c3a6b5ebf26",
   "metadata": {},
   "outputs": [],
   "source": [
    "X_train,X_test,y_train,y_test = train_test_split(X,y,test_size=0.2,random_state=4)"
   ]
  },
  {
   "cell_type": "code",
   "execution_count": 5,
   "id": "2530ed6d-991c-4399-a160-f16a0148c443",
   "metadata": {},
   "outputs": [],
   "source": [
    "from sklearn.linear_model import SGDRegressor"
   ]
  },
  {
   "cell_type": "code",
   "execution_count": 9,
   "id": "4910b661-c3e7-495d-b4bc-5898efd26cb9",
   "metadata": {},
   "outputs": [],
   "source": [
    "reg = SGDRegressor(penalty='l2',max_iter=500,eta0=0.1,learning_rate='constant',alpha=0.001)"
   ]
  },
  {
   "cell_type": "code",
   "execution_count": 10,
   "id": "05fea72a-d870-408c-99fe-b3fac1efe4c6",
   "metadata": {},
   "outputs": [
    {
     "name": "stdout",
     "output_type": "stream",
     "text": [
      "R2-score :  0.46006212496547294\n",
      "Coefficient :  [  53.58141071 -155.10830845  364.72783385  267.29770077   -3.95912164\n",
      "  -59.12339113 -166.35301446  137.68236977  334.99810623  103.55981003]\n",
      "Intercepts \n",
      " :  [156.03545296]\n"
     ]
    }
   ],
   "source": [
    "reg.fit(X_train,y_train)\n",
    "\n",
    "y_pred = reg.predict(X_test)\n",
    "print(\"R2-score : \",r2_score(y_test,y_pred))\n",
    "print(\"Coefficient : \",reg.coef_)\n",
    "print(\"Intercepts \\n : \",reg.intercept_)"
   ]
  },
  {
   "cell_type": "code",
   "execution_count": null,
   "id": "10bcab9a-2633-4742-837e-1b525de819b3",
   "metadata": {},
   "outputs": [],
   "source": []
  },
  {
   "cell_type": "markdown",
   "id": "a220bbda-e8a2-48a3-a120-0582c4f55601",
   "metadata": {},
   "source": [
    "## Using Ridge class applying Gradient Descent "
   ]
  },
  {
   "cell_type": "code",
   "execution_count": 11,
   "id": "a1cb2ec9-6561-4c6a-ae77-12391126625a",
   "metadata": {},
   "outputs": [],
   "source": [
    "from sklearn.linear_model import Ridge\n",
    "reg = Ridge(alpha=0.001, max_iter=500, solver='sparse_cg')"
   ]
  },
  {
   "cell_type": "code",
   "execution_count": 12,
   "id": "5757513a-216e-4dbf-8aa1-7c3da64aa8d0",
   "metadata": {},
   "outputs": [],
   "source": [
    "reg.fit(X_train,y_train)\n",
    "\n",
    "y_pred  = reg.predict(X_test)"
   ]
  },
  {
   "cell_type": "code",
   "execution_count": 13,
   "id": "5d12a82f-6175-4926-a229-76de42184887",
   "metadata": {},
   "outputs": [
    {
     "name": "stdout",
     "output_type": "stream",
     "text": [
      "R2-score :  0.46250101619914563\n",
      "Coefficient :  [  34.52192544 -290.84084076  482.40181344  368.0678662  -852.44873179\n",
      "  501.59160336  180.11115788  270.76333979  759.73534372   37.4913546 ]\n",
      "Intercepts \n",
      " :  151.10198517439466\n"
     ]
    }
   ],
   "source": [
    "print(\"R2-score : \",r2_score(y_test,y_pred))\n",
    "print(\"Coefficient : \",reg.coef_)\n",
    "print(\"Intercepts \\n : \",reg.intercept_)"
   ]
  },
  {
   "cell_type": "code",
   "execution_count": null,
   "id": "caeddeef-4d14-478d-85d7-1e44e9cad5f3",
   "metadata": {},
   "outputs": [],
   "source": []
  },
  {
   "cell_type": "markdown",
   "id": "e67906ee-6617-4f34-8dc8-938bd19fd509",
   "metadata": {},
   "source": [
    "## Coding the Ridge regressor which uses Gradient Descent under the hood , using numpy"
   ]
  },
  {
   "cell_type": "code",
   "execution_count": 17,
   "id": "8d1b1f92-cd04-4a73-aeec-4d4ee8b9bb8b",
   "metadata": {},
   "outputs": [],
   "source": [
    "class RidgeReg:\n",
    "\n",
    "    def __init__(self,alpha,learning_rate,epochs):\n",
    "        self.alpha = alpha\n",
    "        self.learning_rate = learning_rate\n",
    "        self.epochs = epochs\n",
    "        self.coef_ = None\n",
    "        self.intercept_ = None\n",
    "\n",
    "    def fit(self,X_train,y_train):\n",
    "        \n",
    "        self.coef_  = np.ones(X_train.shape[1])\n",
    "        self.intercept_ = 0\n",
    "        theta = np.insert(self.coef_,0,self.intercept_)\n",
    "\n",
    "        X_train = np.insert(X_train,0,1,axis=1)\n",
    "\n",
    "        for i in range(self.epochs):\n",
    "\n",
    "            theta_der = np.dot(X_train.T,X_train).dot(theta) - np.dot(X_train.T,y_train) + self.alpha * theta\n",
    "            theta = theta - self.learning_rate * theta_der\n",
    "\n",
    "        self.coef_ = theta[1:]\n",
    "        self.intercept_ = theta[0]\n",
    "\n",
    "    def predict(self,X_test):\n",
    "\n",
    "        return np.dot(X_test,self.coef_) + self.intercept_"
   ]
  },
  {
   "cell_type": "code",
   "execution_count": 18,
   "id": "a11ecaf2-d749-473c-a981-5a0c9e06cdf1",
   "metadata": {},
   "outputs": [],
   "source": [
    "reg = RidgeReg(epochs=500,alpha=0.001,learning_rate=0.005)"
   ]
  },
  {
   "cell_type": "code",
   "execution_count": 19,
   "id": "f75e6f5d-dd37-492b-b0f6-7dfec737f6b9",
   "metadata": {},
   "outputs": [],
   "source": [
    "reg.fit(X_train,y_train)\n",
    "\n",
    "y_pred = reg.predict(X_test)\n"
   ]
  },
  {
   "cell_type": "code",
   "execution_count": 20,
   "id": "693447a0-b382-463f-a06c-c778091b3b74",
   "metadata": {},
   "outputs": [
    {
     "name": "stdout",
     "output_type": "stream",
     "text": [
      "R2-score :  0.4738018280260913\n",
      "Coefficient :  [  46.65050914 -221.3750037   452.12080647  325.54248128  -29.09464178\n",
      "  -96.47517735 -190.90017011  146.32900372  400.80267299   95.09048094]\n",
      "Intercepts \n",
      " :  150.86975316713472\n"
     ]
    }
   ],
   "source": [
    "print(\"R2-score : \",r2_score(y_test,y_pred))\n",
    "print(\"Coefficient : \",reg.coef_)\n",
    "print(\"Intercepts \\n : \",reg.intercept_)"
   ]
  },
  {
   "cell_type": "code",
   "execution_count": null,
   "id": "96b43299-bba7-4a35-80f3-e617a9a6eb1e",
   "metadata": {},
   "outputs": [],
   "source": []
  }
 ],
 "metadata": {
  "kernelspec": {
   "display_name": "Python 3 (ipykernel)",
   "language": "python",
   "name": "python3"
  },
  "language_info": {
   "codemirror_mode": {
    "name": "ipython",
    "version": 3
   },
   "file_extension": ".py",
   "mimetype": "text/x-python",
   "name": "python",
   "nbconvert_exporter": "python",
   "pygments_lexer": "ipython3",
   "version": "3.12.3"
  }
 },
 "nbformat": 4,
 "nbformat_minor": 5
}
